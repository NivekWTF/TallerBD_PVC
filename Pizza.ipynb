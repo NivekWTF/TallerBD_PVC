{
    "metadata": {
        "kernelspec": {
            "name": "SQL",
            "display_name": "SQL",
            "language": "sql"
        },
        "language_info": {
            "name": "sql",
            "version": ""
        }
    },
    "nbformat_minor": 2,
    "nbformat": 4,
    "cells": [
        {
            "cell_type": "markdown",
            "source": [
                "# Operaciones con conjuntos #\n",
                "\n",
                "## Pizza Time!! ##\n",
                "\n",
                "\n",
                ""
            ],
            "metadata": {
                "azdata_cell_guid": "811a6511-7200-414b-9a6f-095f8a46d37e"
            }
        },
        {
            "cell_type": "code",
            "source": [
                "CREATE DATABASE pizzeria\n",
                "GO\n",
                "\n",
                "use pizzeria\n",
                "GO\n",
                "\n",
                "create table [serves] (\n",
                "[pizzeria] [nvarchar] (50),\n",
                "[pizza] [nvarchar] (50),\n",
                "[price] [money]);\n",
                "\n",
                "\n",
                "insert [serves] ([pizzeria],[pizza],[price])\n",
                "values \n",
                "( 'Pizza Hut','pepperoni',12.0000 ),\n",
                "( 'Pizza Hut','sausage',12.0000 ),\n",
                "( 'Pizza Hut','cheese',9.0000 ),\n",
                "( 'Pizza Hut','supreme',12.0000 ),\n",
                "( 'Little Caesars','pepperoni',10.0000 ),\n",
                "( 'Little Caesars','sausage',10.0000 ),\n",
                "( 'Little Caesars','cheese',7.0000 ),\n",
                "( 'Little Caesars','mushroom',9.0000 ),\n",
                "( 'Dominos','cheese',10.0000 ),\n",
                "( 'Dominos','mushroom',11.0000 ),\n",
                "( 'Straw Hat','pepperoni',8.0000 ),\n",
                "( 'Straw Hat','cheese',9.0000 ),\n",
                "( 'Straw Hat','sausage',10.0000 ),\n",
                "( 'New York Pizza','pepperoni',8.0000 ),\n",
                "( 'New York Pizza','cheese',7.0000 ),\n",
                "( 'New York Pizza','supreme',9.0000 ),\n",
                "( 'Chicago Pizza','cheese',8.0000 ),\n",
                "( 'Chicago Pizza','supreme',9.0000);\n",
                "\n",
                "create table [eats] (\n",
                "[name] [nvarchar] (50),\n",
                "[pizza] [nvarchar] (50));\n",
                "\n",
                "insert [eats] ([name],[pizza])\n",
                "values\n",
                "( 'Amy','pepperoni' ),\n",
                "( 'Amy','mushroom' ),\n",
                "( 'Ben','pepperoni' ),\n",
                "( 'Ben','cheese' ),\n",
                "( 'Cal','supreme' ),\n",
                "( 'Dan','pepperoni' ),\n",
                "( 'Dan','cheese' ),\n",
                "( 'Dan','sausage' ),\n",
                "( 'Dan','supreme' ),\n",
                "( 'Dan','mushroom' ),\n",
                "( 'Eli','supreme' ),\n",
                "( 'Eli','cheese' ),\n",
                "( 'Fay','mushroom' ),\n",
                "( 'Gus','mushroom' ),\n",
                "( 'Gus','supreme' ),\n",
                "( 'Gus','cheese' ),\n",
                "( 'Hil','supreme' ),\n",
                "( 'Hil','cheese' ),\n",
                "( 'Ian','supreme' ),\n",
                "( 'Ian','pepperoni');\n",
                "\n",
                "create table [frequents] (\n",
                "[name] [nvarchar] (50),\n",
                "[pizzeria] [nvarchar] (50));\n",
                "\n",
                "\n",
                "insert [frequents] ([name],[pizzeria])\n",
                "values\n",
                "( 'Amy','Pizza Hut' ),\n",
                "( 'Ben','Pizza Hut' ),\n",
                "( 'Ben','Chicago Pizza' ),\n",
                "( 'Cal','Straw Hat' ),\n",
                "( 'Cal','New York Pizza' ),\n",
                "( 'Dan','Straw Hat' ),\n",
                "( 'Dan','New York Pizza' ),\n",
                "( 'Eli','Straw Hat' ),\n",
                "( 'Eli','Chicago Pizza' ),\n",
                "( 'Fay','Dominos' ),\n",
                "( 'Fay','Little Caesars' ),\n",
                "( 'Gus','Chicago Pizza' ),\n",
                "( 'Gus','Pizza Hut' ),\n",
                "( 'Hil','Dominos' ),\n",
                "( 'Hil','Straw Hat' ),\n",
                "( 'Hil','Pizza Hut' ),\n",
                "( 'Ian','New York Pizza' ),\n",
                "( 'Ian','Straw Hat' ),\n",
                "( 'Ian','Dominos');\n",
                "\n",
                "create table [person] (\n",
                "[name] [nvarchar] (50),\n",
                "[age] [tinyint],\n",
                "[gender] [nvarchar] (50));\n",
                "\n",
                "\n",
                "insert [person] ([name],[age],[gender])\n",
                "values \n",
                "( 'Amy',16,'female' ),\n",
                "( 'Ben',21,'male' ),\n",
                "( 'Cal',33,'male' ),\n",
                "( 'Dan',13,'male' ),\n",
                "( 'Eli',45,'male' ),\n",
                "( 'Fay',21,'female' ),\n",
                "( 'Gus',24,'male' ),\n",
                "( 'Hil',30,'female' ),\n",
                "( 'Ian',18,'male');\n",
                ""
            ],
            "metadata": {
                "azdata_cell_guid": "0e768bac-5a06-4eb6-a2e6-f7870208fc1a",
                "tags": [],
                "language": "sql"
            },
            "outputs": [
                {
                    "output_type": "display_data",
                    "data": {
                        "text/html": "Commands completed successfully."
                    },
                    "metadata": {}
                },
                {
                    "output_type": "display_data",
                    "data": {
                        "text/html": "Commands completed successfully."
                    },
                    "metadata": {}
                },
                {
                    "output_type": "display_data",
                    "data": {
                        "text/html": "(18 rows affected)"
                    },
                    "metadata": {}
                },
                {
                    "output_type": "display_data",
                    "data": {
                        "text/html": "(20 rows affected)"
                    },
                    "metadata": {}
                },
                {
                    "output_type": "display_data",
                    "data": {
                        "text/html": "(19 rows affected)"
                    },
                    "metadata": {}
                },
                {
                    "output_type": "display_data",
                    "data": {
                        "text/html": "(9 rows affected)"
                    },
                    "metadata": {}
                },
                {
                    "output_type": "display_data",
                    "data": {
                        "text/html": "Total execution time: 00:00:00.482"
                    },
                    "metadata": {}
                }
            ],
            "execution_count": 1
        },
        {
            "cell_type": "markdown",
            "source": [
                "## 1 ## \n",
                "Nombre de las personas con edad menor que 40 años que solamente comen pizzas ´suppreme´. \n",
                ""
            ],
            "metadata": {
                "azdata_cell_guid": "2368e79f-a549-4066-a792-43ceabb940f6"
            }
        },
        {
            "cell_type": "code",
            "source": [
                "use pizzeria\r\n",
                "\r\n",
                "select name from person\r\n",
                "where age <40\r\n",
                "EXCEPT\r\n",
                "select name from eats\r\n",
                "where pizza != 'supreme'"
            ],
            "metadata": {
                "azdata_cell_guid": "d822d6f0-411a-4c2b-b067-d29124885c64",
                "language": "sql"
            },
            "outputs": [
                {
                    "output_type": "display_data",
                    "data": {
                        "text/html": "(1 row affected)"
                    },
                    "metadata": {}
                },
                {
                    "output_type": "display_data",
                    "data": {
                        "text/html": "Total execution time: 00:00:00.047"
                    },
                    "metadata": {}
                },
                {
                    "output_type": "execute_result",
                    "metadata": {},
                    "execution_count": 2,
                    "data": {
                        "application/vnd.dataresource+json": {
                            "schema": {
                                "fields": [
                                    {
                                        "name": "name"
                                    }
                                ]
                            },
                            "data": [
                                {
                                    "0": "Cal"
                                }
                            ]
                        },
                        "text/html": [
                            "<table>",
                            "<tr><th>name</th></tr>",
                            "<tr><td>Cal</td></tr>",
                            "</table>"
                        ]
                    }
                }
            ],
            "execution_count": 2
        },
        {
            "cell_type": "markdown",
            "source": [
                "## 2 ##\n",
                "Nombre de las pizzerías que solamente sirven pizzas con precio mayor que 10. \n",
                ""
            ],
            "metadata": {
                "azdata_cell_guid": "7ad3dd73-c906-44ce-b3ba-d193eb45693b"
            }
        },
        {
            "cell_type": "code",
            "source": [
                "use pizzeria\r\n",
                "\r\n",
                "select pizzeria from serves\r\n",
                "except\r\n",
                "SELECT pizzeria FROM serves\r\n",
                "where price < 10\r\n",
                "\r\n",
                "select * from serves"
            ],
            "metadata": {
                "azdata_cell_guid": "ec95b659-9db0-4154-a234-47ed5ebd7d70",
                "language": "sql"
            },
            "outputs": [
                {
                    "output_type": "display_data",
                    "data": {
                        "text/html": "(1 row affected)"
                    },
                    "metadata": {}
                },
                {
                    "output_type": "display_data",
                    "data": {
                        "text/html": "(18 rows affected)"
                    },
                    "metadata": {}
                },
                {
                    "output_type": "display_data",
                    "data": {
                        "text/html": "Total execution time: 00:00:00.031"
                    },
                    "metadata": {}
                },
                {
                    "output_type": "execute_result",
                    "execution_count": 25,
                    "data": {
                        "application/vnd.dataresource+json": {
                            "schema": {
                                "fields": [
                                    {
                                        "name": "pizzeria"
                                    }
                                ]
                            },
                            "data": [
                                {
                                    "0": "Dominos"
                                }
                            ]
                        },
                        "text/html": "<table><tr><th>pizzeria</th></tr><tr><td>Dominos</td></tr></table>"
                    },
                    "metadata": {}
                },
                {
                    "output_type": "execute_result",
                    "execution_count": 25,
                    "data": {
                        "application/vnd.dataresource+json": {
                            "schema": {
                                "fields": [
                                    {
                                        "name": "pizzeria"
                                    },
                                    {
                                        "name": "pizza"
                                    },
                                    {
                                        "name": "price"
                                    }
                                ]
                            },
                            "data": [
                                {
                                    "0": "Pizza Hut",
                                    "1": "pepperoni",
                                    "2": "12.00"
                                },
                                {
                                    "0": "Pizza Hut",
                                    "1": "sausage",
                                    "2": "12.00"
                                },
                                {
                                    "0": "Pizza Hut",
                                    "1": "cheese",
                                    "2": "9.00"
                                },
                                {
                                    "0": "Pizza Hut",
                                    "1": "supreme",
                                    "2": "12.00"
                                },
                                {
                                    "0": "Little Caesars",
                                    "1": "pepperoni",
                                    "2": "10.00"
                                },
                                {
                                    "0": "Little Caesars",
                                    "1": "sausage",
                                    "2": "10.00"
                                },
                                {
                                    "0": "Little Caesars",
                                    "1": "cheese",
                                    "2": "7.00"
                                },
                                {
                                    "0": "Little Caesars",
                                    "1": "mushroom",
                                    "2": "9.00"
                                },
                                {
                                    "0": "Dominos",
                                    "1": "cheese",
                                    "2": "10.00"
                                },
                                {
                                    "0": "Dominos",
                                    "1": "mushroom",
                                    "2": "11.00"
                                },
                                {
                                    "0": "Straw Hat",
                                    "1": "pepperoni",
                                    "2": "8.00"
                                },
                                {
                                    "0": "Straw Hat",
                                    "1": "cheese",
                                    "2": "9.00"
                                },
                                {
                                    "0": "Straw Hat",
                                    "1": "sausage",
                                    "2": "10.00"
                                },
                                {
                                    "0": "New York Pizza",
                                    "1": "pepperoni",
                                    "2": "8.00"
                                },
                                {
                                    "0": "New York Pizza",
                                    "1": "cheese",
                                    "2": "7.00"
                                },
                                {
                                    "0": "New York Pizza",
                                    "1": "supreme",
                                    "2": "9.00"
                                },
                                {
                                    "0": "Chicago Pizza",
                                    "1": "cheese",
                                    "2": "8.00"
                                },
                                {
                                    "0": "Chicago Pizza",
                                    "1": "supreme",
                                    "2": "9.00"
                                }
                            ]
                        },
                        "text/html": "<table><tr><th>pizzeria</th><th>pizza</th><th>price</th></tr><tr><td>Pizza Hut</td><td>pepperoni</td><td>12.00</td></tr><tr><td>Pizza Hut</td><td>sausage</td><td>12.00</td></tr><tr><td>Pizza Hut</td><td>cheese</td><td>9.00</td></tr><tr><td>Pizza Hut</td><td>supreme</td><td>12.00</td></tr><tr><td>Little Caesars</td><td>pepperoni</td><td>10.00</td></tr><tr><td>Little Caesars</td><td>sausage</td><td>10.00</td></tr><tr><td>Little Caesars</td><td>cheese</td><td>7.00</td></tr><tr><td>Little Caesars</td><td>mushroom</td><td>9.00</td></tr><tr><td>Dominos</td><td>cheese</td><td>10.00</td></tr><tr><td>Dominos</td><td>mushroom</td><td>11.00</td></tr><tr><td>Straw Hat</td><td>pepperoni</td><td>8.00</td></tr><tr><td>Straw Hat</td><td>cheese</td><td>9.00</td></tr><tr><td>Straw Hat</td><td>sausage</td><td>10.00</td></tr><tr><td>New York Pizza</td><td>pepperoni</td><td>8.00</td></tr><tr><td>New York Pizza</td><td>cheese</td><td>7.00</td></tr><tr><td>New York Pizza</td><td>supreme</td><td>9.00</td></tr><tr><td>Chicago Pizza</td><td>cheese</td><td>8.00</td></tr><tr><td>Chicago Pizza</td><td>supreme</td><td>9.00</td></tr></table>"
                    },
                    "metadata": {}
                }
            ],
            "execution_count": 25
        },
        {
            "cell_type": "markdown",
            "source": [
                "## 3 ##\n",
                "Nombre de las pizzerías que son frecuentadas solamente por personas mayores de 18 años. \n",
                ""
            ],
            "metadata": {
                "azdata_cell_guid": "811cf043-dfb0-4dce-a477-c6e006c04dd6"
            }
        },
        {
            "cell_type": "code",
            "source": [
                "use pizzeria\r\n",
                "select pizzeria from frequents\r\n",
                "EXCEPT\r\n",
                "select name from person\r\n",
                "where age < 18"
            ],
            "metadata": {
                "azdata_cell_guid": "5c7cda8c-f60b-46de-9c2b-d3e8fbd0f25d",
                "language": "sql"
            },
            "outputs": [
                {
                    "output_type": "display_data",
                    "data": {
                        "text/html": "(6 rows affected)"
                    },
                    "metadata": {}
                },
                {
                    "output_type": "display_data",
                    "data": {
                        "text/html": "Total execution time: 00:00:00.043"
                    },
                    "metadata": {}
                },
                {
                    "output_type": "execute_result",
                    "execution_count": 39,
                    "data": {
                        "application/vnd.dataresource+json": {
                            "schema": {
                                "fields": [
                                    {
                                        "name": "pizzeria"
                                    }
                                ]
                            },
                            "data": [
                                {
                                    "0": "Chicago Pizza"
                                },
                                {
                                    "0": "Dominos"
                                },
                                {
                                    "0": "Little Caesars"
                                },
                                {
                                    "0": "New York Pizza"
                                },
                                {
                                    "0": "Pizza Hut"
                                },
                                {
                                    "0": "Straw Hat"
                                }
                            ]
                        },
                        "text/html": "<table><tr><th>pizzeria</th></tr><tr><td>Chicago Pizza</td></tr><tr><td>Dominos</td></tr><tr><td>Little Caesars</td></tr><tr><td>New York Pizza</td></tr><tr><td>Pizza Hut</td></tr><tr><td>Straw Hat</td></tr></table>"
                    },
                    "metadata": {}
                }
            ],
            "execution_count": 39
        },
        {
            "cell_type": "markdown",
            "source": [
                "## 4 ##\n",
                "Mostrar el nombre de las personas con la edad mayor que comen pizza de peperoni. \n",
                ""
            ],
            "metadata": {
                "azdata_cell_guid": "937d9d51-a6a8-44f6-a422-65030a5614b4"
            }
        },
        {
            "cell_type": "code",
            "source": [
                "use pizzeria\r\n",
                "SELECT name \r\n",
                "FROM eats \r\n",
                "WHERE pizza = 'pepperoni' \r\n",
                "INTERSECT \r\n",
                "SELECT name \r\n",
                "FROM person \r\n",
                "WHERE age > 18;"
            ],
            "metadata": {
                "azdata_cell_guid": "6c9b897f-75ce-4930-a931-7b8db3a18605",
                "language": "sql"
            },
            "outputs": [
                {
                    "output_type": "display_data",
                    "data": {
                        "text/html": "(1 row affected)"
                    },
                    "metadata": {}
                },
                {
                    "output_type": "display_data",
                    "data": {
                        "text/html": "Total execution time: 00:00:00.009"
                    },
                    "metadata": {}
                },
                {
                    "output_type": "execute_result",
                    "metadata": {},
                    "execution_count": 3,
                    "data": {
                        "application/vnd.dataresource+json": {
                            "schema": {
                                "fields": [
                                    {
                                        "name": "name"
                                    }
                                ]
                            },
                            "data": [
                                {
                                    "0": "Ben"
                                }
                            ]
                        },
                        "text/html": [
                            "<table>",
                            "<tr><th>name</th></tr>",
                            "<tr><td>Ben</td></tr>",
                            "</table>"
                        ]
                    }
                }
            ],
            "execution_count": 3
        },
        {
            "cell_type": "markdown",
            "source": [
                "## 5 ##\n",
                "Mostrar el nombre de las personas con la edad menor que comen en la pizzería chicago pizza. \n",
                ""
            ],
            "metadata": {
                "azdata_cell_guid": "660e69fb-1d7d-4621-a0a2-375a14d0aa64"
            }
        },
        {
            "cell_type": "code",
            "source": [
                ""
            ],
            "metadata": {
                "azdata_cell_guid": "917c0e27-b0a9-4149-84a2-f164305889a3",
                "language": "sql"
            },
            "outputs": [],
            "execution_count": null
        },
        {
            "cell_type": "markdown",
            "source": [
                "## 6 ##\n",
                "Mostrar las pizzas cuyo costo es mayor que 10 o que comen en común Eli y Gus. \n",
                ""
            ],
            "metadata": {
                "azdata_cell_guid": "e2779d9a-f7f9-4db1-a815-a46e2824cd41"
            }
        },
        {
            "cell_type": "code",
            "source": [
                "USE pizzeria\r\n",
                "\r\n",
                "select pizza \r\n",
                "from serves\r\n",
                "where price > 10\r\n",
                "union\r\n",
                "SELECT pizza from\r\n",
                "eats\r\n",
                "WHERE name = 'GUS' \r\n",
                "intersect\r\n",
                "SELECT pizza from\r\n",
                "eats\r\n",
                "WHERE name = 'Eli'"
            ],
            "metadata": {
                "azdata_cell_guid": "e4f46665-186a-46cb-adfc-9ef4d7e3fc75",
                "language": "sql"
            },
            "outputs": [
                {
                    "output_type": "display_data",
                    "data": {
                        "text/html": "(5 rows affected)"
                    },
                    "metadata": {}
                },
                {
                    "output_type": "display_data",
                    "data": {
                        "text/html": "Total execution time: 00:00:00.012"
                    },
                    "metadata": {}
                },
                {
                    "output_type": "execute_result",
                    "metadata": {},
                    "execution_count": 4,
                    "data": {
                        "application/vnd.dataresource+json": {
                            "schema": {
                                "fields": [
                                    {
                                        "name": "pizza"
                                    }
                                ]
                            },
                            "data": [
                                {
                                    "0": "cheese"
                                },
                                {
                                    "0": "mushroom"
                                },
                                {
                                    "0": "pepperoni"
                                },
                                {
                                    "0": "sausage"
                                },
                                {
                                    "0": "supreme"
                                }
                            ]
                        },
                        "text/html": [
                            "<table>",
                            "<tr><th>pizza</th></tr>",
                            "<tr><td>cheese</td></tr>",
                            "<tr><td>mushroom</td></tr>",
                            "<tr><td>pepperoni</td></tr>",
                            "<tr><td>sausage</td></tr>",
                            "<tr><td>supreme</td></tr>",
                            "</table>"
                        ]
                    }
                }
            ],
            "execution_count": 4
        },
        {
            "cell_type": "markdown",
            "source": [
                "## 7 ## \n",
                "Mostrar el nombres de las personas que no comen pizzas de ´cheese´ \n",
                ""
            ],
            "metadata": {
                "azdata_cell_guid": "ab234fb0-3621-4796-b13d-be51302570a7"
            }
        },
        {
            "cell_type": "code",
            "source": [
                "USE pizzeria\r\n",
                "select name from eats\r\n",
                "except\r\n",
                "select name from eats\r\n",
                "where pizza = 'chesse'"
            ],
            "metadata": {
                "azdata_cell_guid": "ca75edce-5672-47b5-8388-028069f9a5dc",
                "language": "sql"
            },
            "outputs": [
                {
                    "output_type": "display_data",
                    "data": {
                        "text/html": "(9 rows affected)"
                    },
                    "metadata": {}
                },
                {
                    "output_type": "display_data",
                    "data": {
                        "text/html": "Total execution time: 00:00:00.007"
                    },
                    "metadata": {}
                },
                {
                    "output_type": "execute_result",
                    "metadata": {},
                    "execution_count": 5,
                    "data": {
                        "application/vnd.dataresource+json": {
                            "schema": {
                                "fields": [
                                    {
                                        "name": "name"
                                    }
                                ]
                            },
                            "data": [
                                {
                                    "0": "Amy"
                                },
                                {
                                    "0": "Ben"
                                },
                                {
                                    "0": "Cal"
                                },
                                {
                                    "0": "Dan"
                                },
                                {
                                    "0": "Eli"
                                },
                                {
                                    "0": "Fay"
                                },
                                {
                                    "0": "Gus"
                                },
                                {
                                    "0": "Hil"
                                },
                                {
                                    "0": "Ian"
                                }
                            ]
                        },
                        "text/html": [
                            "<table>",
                            "<tr><th>name</th></tr>",
                            "<tr><td>Amy</td></tr>",
                            "<tr><td>Ben</td></tr>",
                            "<tr><td>Cal</td></tr>",
                            "<tr><td>Dan</td></tr>",
                            "<tr><td>Eli</td></tr>",
                            "<tr><td>Fay</td></tr>",
                            "<tr><td>Gus</td></tr>",
                            "<tr><td>Hil</td></tr>",
                            "<tr><td>Ian</td></tr>",
                            "</table>"
                        ]
                    }
                }
            ],
            "execution_count": 5
        },
        {
            "cell_type": "markdown",
            "source": [
                "## 8 ## \n",
                "Mostrar las pizzas cuyo costo es mayor que 10 y que comen Eli y Gus. \n",
                ""
            ],
            "metadata": {
                "azdata_cell_guid": "5383b757-974d-4a8d-b6c9-afd4242a74e7"
            }
        },
        {
            "cell_type": "code",
            "source": [
                "use pizzeria\r\n",
                "\r\n",
                "select distinct name, eats.pizza from eats \r\n",
                "inner join serves on eats.pizza = serves.pizza\r\n",
                "where name = 'Amy' or name = 'Eli'\r\n",
                "AND price > 10"
            ],
            "metadata": {
                "azdata_cell_guid": "bf6b7872-443f-47f6-aae8-ca96e51a7da7",
                "language": "sql"
            },
            "outputs": [
                {
                    "output_type": "display_data",
                    "data": {
                        "text/html": "(3 rows affected)"
                    },
                    "metadata": {}
                },
                {
                    "output_type": "display_data",
                    "data": {
                        "text/html": "Total execution time: 00:00:00.003"
                    },
                    "metadata": {}
                },
                {
                    "output_type": "execute_result",
                    "metadata": {},
                    "execution_count": 24,
                    "data": {
                        "application/vnd.dataresource+json": {
                            "schema": {
                                "fields": [
                                    {
                                        "name": "name"
                                    },
                                    {
                                        "name": "pizza"
                                    }
                                ]
                            },
                            "data": [
                                {
                                    "0": "Amy",
                                    "1": "mushroom"
                                },
                                {
                                    "0": "Amy",
                                    "1": "pepperoni"
                                },
                                {
                                    "0": "Eli",
                                    "1": "supreme"
                                }
                            ]
                        },
                        "text/html": [
                            "<table>",
                            "<tr><th>name</th><th>pizza</th></tr>",
                            "<tr><td>Amy</td><td>mushroom</td></tr>",
                            "<tr><td>Amy</td><td>pepperoni</td></tr>",
                            "<tr><td>Eli</td><td>supreme</td></tr>",
                            "</table>"
                        ]
                    }
                }
            ],
            "execution_count": 24
        },
        {
            "cell_type": "markdown",
            "source": [
                "## 9 ##\n",
                "Mostrar las pizzerías que solamente sirven a personas mayores de 30 años. \n",
                ""
            ],
            "metadata": {
                "azdata_cell_guid": "2e47b72e-4380-41a6-918f-b915aeeec49d"
            }
        },
        {
            "cell_type": "code",
            "source": [
                "\r\n",
                "use pizzeria\r\n",
                "select pizzeria from frequents\r\n",
                "INTERSECT\r\n",
                "select name from person\r\n",
                "where age < 30\r\n",
                "\r\n",
                "select person.name, person.age,pizzeria from frequents\r\n",
                "inner join person on frequents.name = person.name"
            ],
            "metadata": {
                "azdata_cell_guid": "64edaefe-5b64-4a36-87b4-ab4e2e87e65d",
                "language": "sql"
            },
            "outputs": [
                {
                    "output_type": "display_data",
                    "data": {
                        "text/html": "(0 rows affected)"
                    },
                    "metadata": {}
                },
                {
                    "output_type": "display_data",
                    "data": {
                        "text/html": "(19 rows affected)"
                    },
                    "metadata": {}
                },
                {
                    "output_type": "display_data",
                    "data": {
                        "text/html": "Total execution time: 00:00:00.012"
                    },
                    "metadata": {}
                },
                {
                    "output_type": "execute_result",
                    "metadata": {},
                    "execution_count": 30,
                    "data": {
                        "application/vnd.dataresource+json": {
                            "schema": {
                                "fields": [
                                    {
                                        "name": "pizzeria"
                                    }
                                ]
                            },
                            "data": []
                        },
                        "text/html": [
                            "<table>",
                            "<tr><th>pizzeria</th></tr>",
                            "</table>"
                        ]
                    }
                },
                {
                    "output_type": "execute_result",
                    "metadata": {},
                    "execution_count": 30,
                    "data": {
                        "application/vnd.dataresource+json": {
                            "schema": {
                                "fields": [
                                    {
                                        "name": "name"
                                    },
                                    {
                                        "name": "age"
                                    },
                                    {
                                        "name": "pizzeria"
                                    }
                                ]
                            },
                            "data": [
                                {
                                    "0": "Amy",
                                    "1": "16",
                                    "2": "Pizza Hut"
                                },
                                {
                                    "0": "Ben",
                                    "1": "21",
                                    "2": "Pizza Hut"
                                },
                                {
                                    "0": "Ben",
                                    "1": "21",
                                    "2": "Chicago Pizza"
                                },
                                {
                                    "0": "Cal",
                                    "1": "33",
                                    "2": "Straw Hat"
                                },
                                {
                                    "0": "Cal",
                                    "1": "33",
                                    "2": "New York Pizza"
                                },
                                {
                                    "0": "Dan",
                                    "1": "13",
                                    "2": "Straw Hat"
                                },
                                {
                                    "0": "Dan",
                                    "1": "13",
                                    "2": "New York Pizza"
                                },
                                {
                                    "0": "Eli",
                                    "1": "45",
                                    "2": "Straw Hat"
                                },
                                {
                                    "0": "Eli",
                                    "1": "45",
                                    "2": "Chicago Pizza"
                                },
                                {
                                    "0": "Fay",
                                    "1": "21",
                                    "2": "Dominos"
                                },
                                {
                                    "0": "Fay",
                                    "1": "21",
                                    "2": "Little Caesars"
                                },
                                {
                                    "0": "Gus",
                                    "1": "24",
                                    "2": "Chicago Pizza"
                                },
                                {
                                    "0": "Gus",
                                    "1": "24",
                                    "2": "Pizza Hut"
                                },
                                {
                                    "0": "Hil",
                                    "1": "30",
                                    "2": "Dominos"
                                },
                                {
                                    "0": "Hil",
                                    "1": "30",
                                    "2": "Straw Hat"
                                },
                                {
                                    "0": "Hil",
                                    "1": "30",
                                    "2": "Pizza Hut"
                                },
                                {
                                    "0": "Ian",
                                    "1": "18",
                                    "2": "New York Pizza"
                                },
                                {
                                    "0": "Ian",
                                    "1": "18",
                                    "2": "Straw Hat"
                                },
                                {
                                    "0": "Ian",
                                    "1": "18",
                                    "2": "Dominos"
                                }
                            ]
                        },
                        "text/html": [
                            "<table>",
                            "<tr><th>name</th><th>age</th><th>pizzeria</th></tr>",
                            "<tr><td>Amy</td><td>16</td><td>Pizza Hut</td></tr>",
                            "<tr><td>Ben</td><td>21</td><td>Pizza Hut</td></tr>",
                            "<tr><td>Ben</td><td>21</td><td>Chicago Pizza</td></tr>",
                            "<tr><td>Cal</td><td>33</td><td>Straw Hat</td></tr>",
                            "<tr><td>Cal</td><td>33</td><td>New York Pizza</td></tr>",
                            "<tr><td>Dan</td><td>13</td><td>Straw Hat</td></tr>",
                            "<tr><td>Dan</td><td>13</td><td>New York Pizza</td></tr>",
                            "<tr><td>Eli</td><td>45</td><td>Straw Hat</td></tr>",
                            "<tr><td>Eli</td><td>45</td><td>Chicago Pizza</td></tr>",
                            "<tr><td>Fay</td><td>21</td><td>Dominos</td></tr>",
                            "<tr><td>Fay</td><td>21</td><td>Little Caesars</td></tr>",
                            "<tr><td>Gus</td><td>24</td><td>Chicago Pizza</td></tr>",
                            "<tr><td>Gus</td><td>24</td><td>Pizza Hut</td></tr>",
                            "<tr><td>Hil</td><td>30</td><td>Dominos</td></tr>",
                            "<tr><td>Hil</td><td>30</td><td>Straw Hat</td></tr>",
                            "<tr><td>Hil</td><td>30</td><td>Pizza Hut</td></tr>",
                            "<tr><td>Ian</td><td>18</td><td>New York Pizza</td></tr>",
                            "<tr><td>Ian</td><td>18</td><td>Straw Hat</td></tr>",
                            "<tr><td>Ian</td><td>18</td><td>Dominos</td></tr>",
                            "</table>"
                        ]
                    }
                }
            ],
            "execution_count": 30
        },
        {
            "cell_type": "markdown",
            "source": [
                "## 10 ##\n",
                "Mostrar el nombre de la pizza mas barata.\n",
                ""
            ],
            "metadata": {
                "azdata_cell_guid": "81efc15f-7a76-4a76-b25b-10f6fc27dc84"
            }
        },
        {
            "cell_type": "code",
            "source": [
                "use pizzeria \r\n",
                "select TOP 1  * from serves\r\n",
                "order by price asc"
            ],
            "metadata": {
                "azdata_cell_guid": "001c3176-305e-437a-b4c4-10d49e4fa787",
                "language": "sql"
            },
            "outputs": [
                {
                    "output_type": "display_data",
                    "data": {
                        "text/html": "(1 row affected)"
                    },
                    "metadata": {}
                },
                {
                    "output_type": "display_data",
                    "data": {
                        "text/html": "Total execution time: 00:00:00.023"
                    },
                    "metadata": {}
                },
                {
                    "output_type": "execute_result",
                    "metadata": {},
                    "execution_count": 32,
                    "data": {
                        "application/vnd.dataresource+json": {
                            "schema": {
                                "fields": [
                                    {
                                        "name": "pizzeria"
                                    },
                                    {
                                        "name": "pizza"
                                    },
                                    {
                                        "name": "price"
                                    }
                                ]
                            },
                            "data": [
                                {
                                    "0": "Little Caesars",
                                    "1": "cheese",
                                    "2": "7.00"
                                }
                            ]
                        },
                        "text/html": [
                            "<table>",
                            "<tr><th>pizzeria</th><th>pizza</th><th>price</th></tr>",
                            "<tr><td>Little Caesars</td><td>cheese</td><td>7.00</td></tr>",
                            "</table>"
                        ]
                    }
                }
            ],
            "execution_count": 32
        }
    ]
}
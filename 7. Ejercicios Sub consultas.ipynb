{
    "metadata": {
        "kernelspec": {
            "name": "SQL",
            "display_name": "SQL",
            "language": "sql"
        },
        "language_info": {
            "name": "sql",
            "version": ""
        }
    },
    "nbformat_minor": 2,
    "nbformat": 4,
    "cells": [
        {
            "cell_type": "markdown",
            "source": [
                "# Ejercicios de sub consultas #\n",
                "Resuelva las siguientes necesidades de información de la base de datos Northwind usando subconsultas\n",
                "## 1 ##\n",
                "Obtenga el nombre de los vendedores que durante el mes de junio de 1996 vendieron abajo del vendedor promedio "
            ],
            "metadata": {
                "azdata_cell_guid": "cb5583c5-ee55-40f4-835f-6b44fb23c7ac"
            }
        },
        {
            "cell_type": "code",
            "source": [
                "use Northwind\r\n",
                "\r\n",
                "select avg(importe) from(\r\n",
                "select employeeid, \n",
                "    sum(UnitPrice*Quantity - (UnitPrice*Discount))\n",
                "        as importe\r\n",
                "    from [Order Details] od\r\n",
                "    join Orders o on o.OrderID = od.OrderID\r\n",
                "    group by EmployeeID\r\n",
                ") as ventas\r\n",
                "\r\n",
                "\r\n",
                "\r\n",
                "\r\n",
                ""
            ],
            "metadata": {
                "azdata_cell_guid": "4a01219f-60e8-4e95-a5de-748e651bb305",
                "language": "sql"
            },
            "outputs": [
                {
                    "output_type": "display_data",
                    "data": {
                        "text/html": "(1 row affected)"
                    },
                    "metadata": {}
                },
                {
                    "output_type": "display_data",
                    "data": {
                        "text/html": "Total execution time: 00:00:00.045"
                    },
                    "metadata": {}
                },
                {
                    "output_type": "execute_result",
                    "execution_count": 32,
                    "data": {
                        "application/vnd.dataresource+json": {
                            "schema": {
                                "fields": [
                                    {
                                        "name": "(No column name)"
                                    }
                                ]
                            },
                            "data": [
                                {
                                    "0": "150149.440990448"
                                }
                            ]
                        },
                        "text/html": "<table><tr><th>(No column name)</th></tr><tr><td>150149.440990448</td></tr></table>"
                    },
                    "metadata": {}
                }
            ],
            "execution_count": 32
        },
        {
            "cell_type": "markdown",
            "source": [
                "## 2 ##\n",
                "Obtenga el nombre de los vendedores que hicieron ordenes el día 11 de marzo de 1998"
            ],
            "metadata": {
                "azdata_cell_guid": "f0bb3d9e-527a-4d33-bad8-3052b68a66db"
            }
        },
        {
            "cell_type": "code",
            "source": [
                ""
            ],
            "metadata": {
                "azdata_cell_guid": "71da1ce2-ccde-4f47-a680-ab944e5173f5",
                "language": "sql"
            },
            "outputs": [],
            "execution_count": null
        },
        {
            "cell_type": "markdown",
            "source": [
                "## 3 ## \n",
                "Obtenga el nombre de los vendedores que hicieron ordenes el día que se realizaron mas ventas"
            ],
            "metadata": {
                "azdata_cell_guid": "d2300dd9-b140-40c1-9e83-b29fd7511fcd"
            }
        },
        {
            "cell_type": "code",
            "source": [
                ""
            ],
            "metadata": {
                "azdata_cell_guid": "068d2b86-f85e-4a5f-aeb9-2124b66817e4",
                "language": "sql"
            },
            "outputs": [],
            "execution_count": null
        },
        {
            "cell_type": "markdown",
            "source": [
                "## 4 ##\n",
                "Obtenga el nombre de los vendedores que viven en la misma ciudad de al menos uno de sus clientes ( es su cliente si le ha vendido al menos una vez )"
            ],
            "metadata": {
                "azdata_cell_guid": "94a88626-c950-4f48-8510-e247405d2346"
            }
        },
        {
            "cell_type": "code",
            "source": [
                ""
            ],
            "metadata": {
                "azdata_cell_guid": "24508e74-d4e0-4eee-853a-f53496df99d7",
                "language": "sql"
            },
            "outputs": [],
            "execution_count": null
        },
        {
            "cell_type": "markdown",
            "source": [
                "## 5 ##\n",
                "Obtenga el producto mas caro de cada proveedor"
            ],
            "metadata": {
                "azdata_cell_guid": "07b9be20-1487-4aa6-8634-e41f49e7d4fd"
            }
        },
        {
            "cell_type": "code",
            "source": [
                ""
            ],
            "metadata": {
                "azdata_cell_guid": "25baaecf-eb48-41d7-a57f-4c01e3d48f97",
                "language": "sql"
            },
            "outputs": [],
            "execution_count": null
        },
        {
            "cell_type": "markdown",
            "source": [
                "## 6 ## \n",
                "Encuentre el nombre de las ciudades donde tenemos mas de 2 clientes"
            ],
            "metadata": {
                "azdata_cell_guid": "79ab9e85-48bb-4757-ab1b-cab388341601"
            }
        }
    ]
}